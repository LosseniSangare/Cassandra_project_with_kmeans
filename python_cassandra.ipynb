{
 "cells": [
  {
   "cell_type": "code",
   "execution_count": 24,
   "metadata": {},
   "outputs": [],
   "source": [
    "import urllib\n",
    "import codecs\n",
    "import shutil\n",
    "import os\n",
    "import glob2\n",
    "from bs4 import BeautifulSoup as bs\n",
    "import re\n",
    "import html\n",
    "import base64\n",
    "#import cql"
   ]
  },
  {
   "cell_type": "code",
   "execution_count": 21,
   "metadata": {
    "scrolled": true
   },
   "outputs": [
    {
     "name": "stdout",
     "output_type": "stream",
     "text": [
      "Requirement already satisfied: cassandra-driver in d:\\anaconda\\lib\\site-packages (3.28.0)Note: you may need to restart the kernel to use updated packages.\n",
      "\n",
      "Requirement already satisfied: six>=1.9 in d:\\anaconda\\lib\\site-packages (from cassandra-driver) (1.16.0)\n",
      "Requirement already satisfied: geomet<0.3,>=0.1 in d:\\anaconda\\lib\\site-packages (from cassandra-driver) (0.2.1.post1)\n",
      "Requirement already satisfied: click in d:\\anaconda\\lib\\site-packages (from geomet<0.3,>=0.1->cassandra-driver) (8.0.4)\n",
      "Requirement already satisfied: colorama in d:\\anaconda\\lib\\site-packages (from click->geomet<0.3,>=0.1->cassandra-driver) (0.4.6)\n"
     ]
    }
   ],
   "source": [
    "pip install cassandra-driver"
   ]
  },
  {
   "cell_type": "code",
   "execution_count": 32,
   "metadata": {},
   "outputs": [
    {
     "ename": "AlreadyExists",
     "evalue": "Table 'ai.python_test' already exists",
     "output_type": "error",
     "traceback": [
      "\u001b[1;31m---------------------------------------------------------------------------\u001b[0m",
      "\u001b[1;31mAlreadyExists\u001b[0m                             Traceback (most recent call last)",
      "Cell \u001b[1;32mIn[32], line 5\u001b[0m\n\u001b[0;32m      3\u001b[0m session\u001b[38;5;241m=\u001b[39mcluster\u001b[38;5;241m.\u001b[39mconnect(\u001b[38;5;124m'\u001b[39m\u001b[38;5;124mai\u001b[39m\u001b[38;5;124m'\u001b[39m)\n\u001b[0;32m      4\u001b[0m \u001b[38;5;66;03m#session.execute(\"drop table python_test\")\u001b[39;00m\n\u001b[1;32m----> 5\u001b[0m session\u001b[38;5;241m.\u001b[39mexecute(\u001b[38;5;124m\"\u001b[39m\u001b[38;5;124mcreate table python_test(id uuid primary key, name text, lastname text)\u001b[39m\u001b[38;5;124m\"\u001b[39m)\n\u001b[0;32m      6\u001b[0m \u001b[38;5;28;01mfor\u001b[39;00m i \u001b[38;5;129;01min\u001b[39;00m \u001b[38;5;28mrange\u001b[39m(\u001b[38;5;241m10\u001b[39m):\n\u001b[0;32m      7\u001b[0m     session\u001b[38;5;241m.\u001b[39mexecute(\u001b[38;5;124m\"\u001b[39m\u001b[38;5;124minsert into python_test(id,name,lastname) values(uuid(), \u001b[39m\u001b[38;5;124m'\u001b[39m\u001b[38;5;124mprenom_\u001b[39m\u001b[38;5;124m\"\u001b[39m\u001b[38;5;241m+\u001b[39m\u001b[38;5;28mstr\u001b[39m(i)\u001b[38;5;241m+\u001b[39m\u001b[38;5;124m\"\u001b[39m\u001b[38;5;124m'\u001b[39m\u001b[38;5;124m,\u001b[39m\u001b[38;5;124m'\u001b[39m\u001b[38;5;124mnom\u001b[39m\u001b[38;5;124m'\u001b[39m\u001b[38;5;124m)\u001b[39m\u001b[38;5;124m\"\u001b[39m)\n",
      "File \u001b[1;32mD:\\Anaconda\\Lib\\site-packages\\cassandra\\cluster.py:2637\u001b[0m, in \u001b[0;36mcassandra.cluster.Session.execute\u001b[1;34m()\u001b[0m\n",
      "File \u001b[1;32mD:\\Anaconda\\Lib\\site-packages\\cassandra\\cluster.py:4920\u001b[0m, in \u001b[0;36mcassandra.cluster.ResponseFuture.result\u001b[1;34m()\u001b[0m\n",
      "\u001b[1;31mAlreadyExists\u001b[0m: Table 'ai.python_test' already exists"
     ]
    }
   ],
   "source": [
    "from cassandra.cluster import Cluster\n",
    "cluster=Cluster(['127.0.0.1'])#127.0.0.1,\"172.17.0.0\"\n",
    "session=cluster.connect('ai')\n",
    "#session.execute(\"drop table python_test\")\n",
    "session.execute(\"create table python_test(id uuid primary key, name text, lastname text)\")\n",
    "for i in range(10):\n",
    "    session.execute(\"insert into python_test(id,name,lastname) values(uuid(), 'prenom_\"+str(i)+\"','nom')\")\n",
    "print(\"finished\")\n",
    "rows=session.execute(\"select id,name from python_test\")\n",
    "for r  in rows:\n",
    "    print(r.id)"
   ]
  },
  {
   "cell_type": "code",
   "execution_count": 27,
   "metadata": {},
   "outputs": [
    {
     "data": {
      "text/plain": [
       "<cassandra.cluster.ResultSet at 0x1e21661b7d0>"
      ]
     },
     "execution_count": 27,
     "metadata": {},
     "output_type": "execute_result"
    }
   ],
   "source": [
    "#session.execute(\"drop table python_test\")"
   ]
  },
  {
   "cell_type": "code",
   "execution_count": 28,
   "metadata": {},
   "outputs": [],
   "source": [
    "\n",
    "#session.execute('drop table wiki_stat')\n",
    "res=session.execute(\"create  table wiki_stat(name text primary key, cat_count  counter, http_ext_count counter, http_int_count counter, wiki_count counter)\")\n"
   ]
  },
  {
   "cell_type": "code",
   "execution_count": null,
   "metadata": {},
   "outputs": [],
   "source": [
    "from cassandra.query import SimpleStatement, BatchStatement\n",
    "batch=BatchStatement()\n",
    "session.execute(\"create table temp_table(id timeuuid primary key)\")\n",
    "for i in range(100):\n",
    "    #print(\"update wiki_stat set cat_count=cat_count+\"+str(len(article.categories))+\" , http_ext_count=http_ext_count+\"+str(len(article.urls_http_ext))+\" , http_int_count=http_int_count+\"+str(len(article.urls_http_int))+\" , wiki_count=wiki_count+\"+str(len(article.urls_wiki))+\" where name=\"+article.name+\"\")\n",
    "    batch.add(SimpleStatement(\"insert into temp_table(id) values (now())\"))\n",
    "session.execute(batch)"
   ]
  },
  {
   "cell_type": "code",
   "execution_count": null,
   "metadata": {},
   "outputs": [],
   "source": [
    "from cassandra.cluster import Cluster\n",
    "#cluster=Cluster()#127.0.0.1\n",
    "#session=cluster.connect('ai')\n",
    "\n",
    "res=session.execute(\"select * from python_test \")\n",
    "for r in res:\n",
    "    print(r)\n"
   ]
  },
  {
   "cell_type": "code",
   "execution_count": null,
   "metadata": {},
   "outputs": [],
   "source": [
    "from cassandra.query import PreparedStatement\n",
    "\n",
    "prepared = session.prepare(\"insert into ai.employee_by_car_make(car_make, id,car_model) values (?,?,?)\")\n",
    "#stmt=session.prepare(\"INSERT INTO students (studentID, name, age, marks) VALUES (?,?,?)\")\n",
    "bound = prepared.bind([\"merc\",23,\"A3\"]);\n",
    "session.execute(bound);\n",
    "\n",
    "session.execute(prepared.bind([\"merc\",24,\"A3\"]));\n"
   ]
  }
 ],
 "metadata": {
  "kernelspec": {
   "display_name": "Python 3 (ipykernel)",
   "language": "python",
   "name": "python3"
  },
  "language_info": {
   "codemirror_mode": {
    "name": "ipython",
    "version": 3
   },
   "file_extension": ".py",
   "mimetype": "text/x-python",
   "name": "python",
   "nbconvert_exporter": "python",
   "pygments_lexer": "ipython3",
   "version": "3.11.5"
  }
 },
 "nbformat": 4,
 "nbformat_minor": 4
}
