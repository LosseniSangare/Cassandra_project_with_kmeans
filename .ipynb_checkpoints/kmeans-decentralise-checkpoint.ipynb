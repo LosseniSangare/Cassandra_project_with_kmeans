{
 "cells": [
  {
   "cell_type": "markdown",
   "id": "black-horse",
   "metadata": {},
   "source": [
    "L'objectif de ce mini-projet est de simuler l'execution du K-means en mode distribue.\n",
    "En effet, le K-means a ete consu pour s'executer en mode centralise avec toutes les donnees en memoire. \n",
    "Avec l'emmergence du Big Data, il est souvent demande aux data scientists et data ingénieurs de concevoir (pour les premiers) \n",
    "ou adapter (pour les seconds) des algorithmes existants, aux contraintes du Big Data.\n",
    "La contrainte qui nous interesse dans le cadre de ce TP est la decentralisation des données. Il vous sera \n",
    "ainsi interdit de rapatrier toutes les données en memoire. \n",
    "\n",
    "Ci dessous, une version simplifiee de l'algorithm des kmeans. "
   ]
  },
  {
   "cell_type": "code",
   "execution_count": 3,
   "id": "8bfa8ee1",
   "metadata": {},
   "outputs": [
    {
     "name": "stdout",
     "output_type": "stream",
     "text": [
      "Requirement already satisfied: cassandra-driver in d:\\anaconda\\lib\\site-packages (3.28.0)\n",
      "Requirement already satisfied: six>=1.9 in d:\\anaconda\\lib\\site-packages (from cassandra-driver) (1.16.0)\n",
      "Requirement already satisfied: geomet<0.3,>=0.1 in d:\\anaconda\\lib\\site-packages (from cassandra-driver) (0.2.1.post1)\n",
      "Requirement already satisfied: click in d:\\anaconda\\lib\\site-packages (from geomet<0.3,>=0.1->cassandra-driver) (8.0.4)\n",
      "Requirement already satisfied: colorama in d:\\anaconda\\lib\\site-packages (from click->geomet<0.3,>=0.1->cassandra-driver) (0.4.6)\n",
      "Note: you may need to restart the kernel to use updated packages.\n"
     ]
    }
   ],
   "source": [
    "pip install cassandra-driver==3.24.0"
   ]
  },
  {
   "cell_type": "code",
   "execution_count": null,
   "id": "ordinary-membership",
   "metadata": {},
   "outputs": [],
   "source": [
    "import copy\n",
    "import numpy as np\n",
    "from sklearn.neighbors import NearestNeighbors\n",
    "\n",
    "def kmeans_(feats,num_clus):\n",
    "    max_iter=10000\n",
    "    nbrs=NearestNeighbors(n_neighbors=1, algorithm='ball_tree')\n",
    "    iter_=0\n",
    "    centroides=feats[np.random.choice(feats.shape[0],num_clus,replace=False),:]\n",
    "    \n",
    "    while(iter_<max_iter):\n",
    "        nbrs.fit(centroides)\n",
    "        iter_+=1\n",
    "        distances,indices = nbrs.kneighbors(feats)\n",
    "        centroides_prev=copy.deepcopy(centroides)\n",
    "        \n",
    "        for i in range(centroides.shape[0]):\n",
    "            centroides[i,:] = feats[np.where(indices[:,0] == i)[0],:].mean(axis=0)\n",
    "\n",
    "    return indices[:,0],distances.mean()"
   ]
  },
  {
   "cell_type": "markdown",
   "id": "furnished-section",
   "metadata": {},
   "source": [
    "# Exercice 1 (3 pts) :\n",
    "Il vous est demandé de commenter le code de cette fonction"
   ]
  },
  {
   "cell_type": "markdown",
   "id": "041dd947-dc4f-4a99-af19-e0b74bfd2942",
   "metadata": {},
   "source": []
  },
  {
   "cell_type": "markdown",
   "id": "mighty-programming",
   "metadata": {},
   "source": [
    "# Exercice 2 (7 pts)\n",
    "Vous devez remplir 3 table sur Cassandra avec 100000 element chacune\n",
    "Chaque table contient 5 colonnes\n",
    "\n",
    "Les tables suivent la structure suivante :\n",
    "ID_pref (Partition key),Id_company, age, weight, shoulder circumference\n",
    "\n",
    "Id_company est unique pour chaque ligne\n",
    "La colonne ID_pref est assigné une des trois valeurs (0,1,2). 40% des lignes ont une valeure de 0. Les valeurs de 1 et 2 representent 30% chacune. \n",
    "\n",
    "Pour la première table\n",
    "La colonne age est assigne une valeur suivant une loi normale entre 18 et 99 avec moyenne=30 et écart type = 10  (utilisez scipy.stats).\n",
    "La colonne weight et shoulder circumference sont aleatoires (utilisez numpy.random). \n",
    "50<weight<99 et 30<shoulder circumference <60\n",
    "\n",
    "Pour la seconde table \n",
    "La colonne age est assigne une valeur suivant une loi normale entre 18 et 99 avec moyenne=30 et écart type = 15  (utilisez scipy.stats).\n",
    "La colonne weight est assigné une valeur suivant une loi normale entre 50 et 99 avec moyenne=70 et écart type = 10  (utilisez scipy.stats).\n",
    "30<shoulder circumference (aleatoire) <60\n",
    "\n",
    "la troisième table utilise le même modèle que la tablea précedente pour genèrer la colonne age\n",
    "Le poids et shoulder circumference dependent de l'age\n",
    "Poids = 50 + sqrt(age)\n",
    "shoulder circumference = 10 + 2*log(age)\n",
    "ID_pref = les identifiants des personnes dépendent de leur age où les plus jeunes ont un age de 0 et les plus agés un identifiant de 3. \n",
    "\n",
    "\n",
    "NB\n",
    "Commencez par faire l'exercice sur un dictionnaire (cassandra_dict={}, avec cassandra_dict[table1],cassandra_dict[table2],cassandra_dict[table3] representant les tables). Modifiez ensuite votre code pour s'executer sur cassandra. Vous aurez une note partielle si vous executez sur dictionnaire seulement (2/3 de la note)"
   ]
  },
  {
   "cell_type": "code",
   "execution_count": 44,
   "id": "0ec4cfc1-15c5-4f16-b3cf-41c358b9dd0f",
   "metadata": {},
   "outputs": [],
   "source": [
    "import urllib\n",
    "import codecs\n",
    "import shutil\n",
    "import os\n",
    "import glob2\n",
    "from bs4 import BeautifulSoup as bs\n",
    "import re\n",
    "import html\n",
    "import base64\n",
    "from cassandra.cluster import Cluster\n",
    "#import cql"
   ]
  },
  {
   "cell_type": "code",
   "execution_count": 46,
   "id": "ad09b446-25cd-4ca5-88db-8711101fcee9",
   "metadata": {},
   "outputs": [],
   "source": [
    "cluster=Cluster(['127.0.0.1'])#127.0.0.1,\"172.17.0.0\"\n",
    "session=cluster.connect('kmeans_decentralise')"
   ]
  },
  {
   "cell_type": "code",
   "execution_count": 61,
   "id": "1661c9ca-db59-4bcd-a1b4-c39cbf1f4abd",
   "metadata": {},
   "outputs": [
    {
     "data": {
      "text/plain": [
       "<cassandra.cluster.ResultSet at 0x29d5da46750>"
      ]
     },
     "execution_count": 61,
     "metadata": {},
     "output_type": "execute_result"
    }
   ],
   "source": [
    "#creation des tables \n",
    "session.execute(\"create table table_1(Id_company uuid primary key, ID_pref int, age double, weight int, shoulder_circumference double)\")\n",
    "session.execute(\"create table table_2(Id_company uuid primary key, ID_pref int, age double, weight double, shoulder_circumference double)\")\n",
    "session.execute(\"create table table_3(Id_company uuid primary key, ID_pref int, age double, weight double, shoulder_circumference double)\")"
   ]
  },
  {
   "cell_type": "code",
   "execution_count": 60,
   "id": "1b0920be-9ddf-495f-848d-8e0a115ca0ae",
   "metadata": {},
   "outputs": [
    {
     "data": {
      "text/plain": [
       "<cassandra.cluster.ResultSet at 0x29d5d857e10>"
      ]
     },
     "execution_count": 60,
     "metadata": {},
     "output_type": "execute_result"
    }
   ],
   "source": [
    "session.execute(\"drop table table_1\")"
   ]
  },
  {
   "cell_type": "code",
   "execution_count": 74,
   "id": "d79d578f-5805-4e2f-ab49-2ac2d50ec629",
   "metadata": {},
   "outputs": [],
   "source": [
    "import numpy as np\n",
    "import pandas as pd\n",
    "from scipy.stats import norm"
   ]
  },
  {
   "cell_type": "code",
   "execution_count": 70,
   "id": "f1193cb1-6338-47f8-bcd0-ade276e91082",
   "metadata": {},
   "outputs": [],
   "source": [
    "#colone Id_pref\n",
    "taille_df=1000\n",
    "id_pref = np.random.choice([0,1,2], size=taille_df, p=[0.4,0.3,0.3])\n",
    "\n",
    "#colonne age\n",
    "moyenne_age =30;\n",
    "ecart_type_age = 10\n",
    "age = norm.rvs(loc=moyenne_age, scale=ecart_type_age, size=taille_df)\n",
    "age = np.clip(age, 18, 99)\n",
    "\n",
    "\n",
    "#colonne weight\n",
    "weight = np.random.randint(50,99,taille_df)\n",
    "#la datafram\n",
    "\n",
    "#colonne shoulder circumference\n",
    "shoulder = np.random.randint(30,60,taille_df)\n",
    "\n",
    "df1 = pd.DataFrame({\"ID_pref\": id_pref, \"age\":age, \"weight\":weight,\"shoulder_circumference\": shoulder})\n"
   ]
  },
  {
   "cell_type": "code",
   "execution_count": 71,
   "id": "d01c0998-916e-438a-a2df-a42c67f4ac7f",
   "metadata": {},
   "outputs": [
    {
     "data": {
      "text/html": [
       "<div>\n",
       "<style scoped>\n",
       "    .dataframe tbody tr th:only-of-type {\n",
       "        vertical-align: middle;\n",
       "    }\n",
       "\n",
       "    .dataframe tbody tr th {\n",
       "        vertical-align: top;\n",
       "    }\n",
       "\n",
       "    .dataframe thead th {\n",
       "        text-align: right;\n",
       "    }\n",
       "</style>\n",
       "<table border=\"1\" class=\"dataframe\">\n",
       "  <thead>\n",
       "    <tr style=\"text-align: right;\">\n",
       "      <th></th>\n",
       "      <th>ID_pref</th>\n",
       "      <th>age</th>\n",
       "      <th>weight</th>\n",
       "      <th>shoulder_circumference</th>\n",
       "    </tr>\n",
       "  </thead>\n",
       "  <tbody>\n",
       "    <tr>\n",
       "      <th>0</th>\n",
       "      <td>2</td>\n",
       "      <td>22.902685</td>\n",
       "      <td>57</td>\n",
       "      <td>30</td>\n",
       "    </tr>\n",
       "    <tr>\n",
       "      <th>1</th>\n",
       "      <td>0</td>\n",
       "      <td>36.803589</td>\n",
       "      <td>88</td>\n",
       "      <td>48</td>\n",
       "    </tr>\n",
       "    <tr>\n",
       "      <th>2</th>\n",
       "      <td>1</td>\n",
       "      <td>19.804595</td>\n",
       "      <td>81</td>\n",
       "      <td>30</td>\n",
       "    </tr>\n",
       "    <tr>\n",
       "      <th>3</th>\n",
       "      <td>0</td>\n",
       "      <td>18.000000</td>\n",
       "      <td>58</td>\n",
       "      <td>47</td>\n",
       "    </tr>\n",
       "    <tr>\n",
       "      <th>4</th>\n",
       "      <td>0</td>\n",
       "      <td>18.000000</td>\n",
       "      <td>80</td>\n",
       "      <td>30</td>\n",
       "    </tr>\n",
       "    <tr>\n",
       "      <th>...</th>\n",
       "      <td>...</td>\n",
       "      <td>...</td>\n",
       "      <td>...</td>\n",
       "      <td>...</td>\n",
       "    </tr>\n",
       "    <tr>\n",
       "      <th>995</th>\n",
       "      <td>2</td>\n",
       "      <td>50.525646</td>\n",
       "      <td>63</td>\n",
       "      <td>47</td>\n",
       "    </tr>\n",
       "    <tr>\n",
       "      <th>996</th>\n",
       "      <td>0</td>\n",
       "      <td>26.954366</td>\n",
       "      <td>92</td>\n",
       "      <td>41</td>\n",
       "    </tr>\n",
       "    <tr>\n",
       "      <th>997</th>\n",
       "      <td>1</td>\n",
       "      <td>31.495869</td>\n",
       "      <td>84</td>\n",
       "      <td>50</td>\n",
       "    </tr>\n",
       "    <tr>\n",
       "      <th>998</th>\n",
       "      <td>1</td>\n",
       "      <td>18.000000</td>\n",
       "      <td>76</td>\n",
       "      <td>34</td>\n",
       "    </tr>\n",
       "    <tr>\n",
       "      <th>999</th>\n",
       "      <td>2</td>\n",
       "      <td>25.486549</td>\n",
       "      <td>66</td>\n",
       "      <td>51</td>\n",
       "    </tr>\n",
       "  </tbody>\n",
       "</table>\n",
       "<p>1000 rows × 4 columns</p>\n",
       "</div>"
      ],
      "text/plain": [
       "     ID_pref        age  weight  shoulder_circumference\n",
       "0          2  22.902685      57                      30\n",
       "1          0  36.803589      88                      48\n",
       "2          1  19.804595      81                      30\n",
       "3          0  18.000000      58                      47\n",
       "4          0  18.000000      80                      30\n",
       "..       ...        ...     ...                     ...\n",
       "995        2  50.525646      63                      47\n",
       "996        0  26.954366      92                      41\n",
       "997        1  31.495869      84                      50\n",
       "998        1  18.000000      76                      34\n",
       "999        2  25.486549      66                      51\n",
       "\n",
       "[1000 rows x 4 columns]"
      ]
     },
     "execution_count": 71,
     "metadata": {},
     "output_type": "execute_result"
    }
   ],
   "source": [
    "df1"
   ]
  },
  {
   "cell_type": "code",
   "execution_count": 66,
   "id": "0b06774b-59a1-4e50-9323-47c62a768d49",
   "metadata": {},
   "outputs": [
    {
     "name": "stdout",
     "output_type": "stream",
     "text": [
      "finished\n"
     ]
    }
   ],
   "source": [
    "#insertion de la df dansla table_1\n",
    "# Insertion de la df dans la table_1\n",
    "for i in range(taille_df):\n",
    "    session.execute(\"\"\"\n",
    "        INSERT INTO table_1 (Id_company, ID_pref, age, weight, shoulder_circumference)\n",
    "        VALUES (uuid(), %s, %s, %s, %s)\n",
    "    \"\"\", (df1['ID_pref'].iloc[i], df1['age'].iloc[i], df1['weight'].iloc[i], df1['shoulder_circumference'].iloc[i]))\n",
    "\n",
    "print(\"finished\")\n",
    "#rows=session.execute(\"select id,name from python_test\")"
   ]
  },
  {
   "cell_type": "code",
   "execution_count": 69,
   "id": "4ff7bfbe-8f93-4d3b-ab8c-960e22607906",
   "metadata": {},
   "outputs": [
    {
     "data": {
      "text/plain": [
       "<cassandra.cluster.ResultSet at 0x29d5db0bb90>"
      ]
     },
     "execution_count": 69,
     "metadata": {},
     "output_type": "execute_result"
    }
   ],
   "source": [
    "session.execute(\"drop table table_1\")"
   ]
  },
  {
   "cell_type": "markdown",
   "id": "8039c692-ee73-40a2-a40c-648daf586f09",
   "metadata": {},
   "source": [
    "# table 2"
   ]
  },
  {
   "cell_type": "code",
   "execution_count": 76,
   "id": "9972d348-3182-4018-94ac-2b6d1ef5092d",
   "metadata": {},
   "outputs": [],
   "source": [
    "#colone Id_pref\n",
    "id_pref = np.random.choice([0,1,2], size=taille_df, p=[0.4,0.3,0.3])\n",
    "\n",
    "#colonne age\n",
    "moyenne_age =30;\n",
    "ecart_type_age = 15\n",
    "age = norm.rvs(loc=moyenne_age, scale=ecart_type_age, size=taille_df)\n",
    "age = np.clip(age, 18, 99)\n",
    "\n",
    "#colonne weight\n",
    "moyenne_weight = 70\n",
    "ecart_type_weight = 10\n",
    "weight =  norm.rvs(loc=moyenne_weight, scale=ecart_type_weight, size=taille_df)\n",
    "weight = np.clip(weight,50,99)\n",
    "#la datafram\n",
    "\n",
    "#colonne shoulder circumference\n",
    "shoulder = np.random.randint(30,60,taille_df)\n",
    "\n",
    "df2 = pd.DataFrame({\"ID_pref\": id_pref, \"age\":age, \"weight\":weight,\"shoulder_circumference\": shoulder})\n"
   ]
  },
  {
   "cell_type": "code",
   "execution_count": 77,
   "id": "ba443a9b-e298-4a78-b346-4ca3aac4b12f",
   "metadata": {},
   "outputs": [
    {
     "data": {
      "text/html": [
       "<div>\n",
       "<style scoped>\n",
       "    .dataframe tbody tr th:only-of-type {\n",
       "        vertical-align: middle;\n",
       "    }\n",
       "\n",
       "    .dataframe tbody tr th {\n",
       "        vertical-align: top;\n",
       "    }\n",
       "\n",
       "    .dataframe thead th {\n",
       "        text-align: right;\n",
       "    }\n",
       "</style>\n",
       "<table border=\"1\" class=\"dataframe\">\n",
       "  <thead>\n",
       "    <tr style=\"text-align: right;\">\n",
       "      <th></th>\n",
       "      <th>ID_pref</th>\n",
       "      <th>age</th>\n",
       "      <th>weight</th>\n",
       "      <th>shoulder_circumference</th>\n",
       "    </tr>\n",
       "  </thead>\n",
       "  <tbody>\n",
       "    <tr>\n",
       "      <th>0</th>\n",
       "      <td>1</td>\n",
       "      <td>75.894167</td>\n",
       "      <td>84.807417</td>\n",
       "      <td>45</td>\n",
       "    </tr>\n",
       "    <tr>\n",
       "      <th>1</th>\n",
       "      <td>1</td>\n",
       "      <td>50.224258</td>\n",
       "      <td>68.981733</td>\n",
       "      <td>58</td>\n",
       "    </tr>\n",
       "    <tr>\n",
       "      <th>2</th>\n",
       "      <td>1</td>\n",
       "      <td>20.485878</td>\n",
       "      <td>65.298667</td>\n",
       "      <td>53</td>\n",
       "    </tr>\n",
       "    <tr>\n",
       "      <th>3</th>\n",
       "      <td>0</td>\n",
       "      <td>18.000000</td>\n",
       "      <td>90.915306</td>\n",
       "      <td>52</td>\n",
       "    </tr>\n",
       "    <tr>\n",
       "      <th>4</th>\n",
       "      <td>0</td>\n",
       "      <td>18.000000</td>\n",
       "      <td>55.683879</td>\n",
       "      <td>54</td>\n",
       "    </tr>\n",
       "    <tr>\n",
       "      <th>...</th>\n",
       "      <td>...</td>\n",
       "      <td>...</td>\n",
       "      <td>...</td>\n",
       "      <td>...</td>\n",
       "    </tr>\n",
       "    <tr>\n",
       "      <th>995</th>\n",
       "      <td>0</td>\n",
       "      <td>41.452949</td>\n",
       "      <td>71.425100</td>\n",
       "      <td>50</td>\n",
       "    </tr>\n",
       "    <tr>\n",
       "      <th>996</th>\n",
       "      <td>0</td>\n",
       "      <td>40.904886</td>\n",
       "      <td>61.204536</td>\n",
       "      <td>33</td>\n",
       "    </tr>\n",
       "    <tr>\n",
       "      <th>997</th>\n",
       "      <td>1</td>\n",
       "      <td>35.850088</td>\n",
       "      <td>79.876160</td>\n",
       "      <td>38</td>\n",
       "    </tr>\n",
       "    <tr>\n",
       "      <th>998</th>\n",
       "      <td>2</td>\n",
       "      <td>24.637361</td>\n",
       "      <td>62.220312</td>\n",
       "      <td>55</td>\n",
       "    </tr>\n",
       "    <tr>\n",
       "      <th>999</th>\n",
       "      <td>2</td>\n",
       "      <td>31.270487</td>\n",
       "      <td>77.685026</td>\n",
       "      <td>31</td>\n",
       "    </tr>\n",
       "  </tbody>\n",
       "</table>\n",
       "<p>1000 rows × 4 columns</p>\n",
       "</div>"
      ],
      "text/plain": [
       "     ID_pref        age     weight  shoulder_circumference\n",
       "0          1  75.894167  84.807417                      45\n",
       "1          1  50.224258  68.981733                      58\n",
       "2          1  20.485878  65.298667                      53\n",
       "3          0  18.000000  90.915306                      52\n",
       "4          0  18.000000  55.683879                      54\n",
       "..       ...        ...        ...                     ...\n",
       "995        0  41.452949  71.425100                      50\n",
       "996        0  40.904886  61.204536                      33\n",
       "997        1  35.850088  79.876160                      38\n",
       "998        2  24.637361  62.220312                      55\n",
       "999        2  31.270487  77.685026                      31\n",
       "\n",
       "[1000 rows x 4 columns]"
      ]
     },
     "execution_count": 77,
     "metadata": {},
     "output_type": "execute_result"
    }
   ],
   "source": [
    "df2"
   ]
  },
  {
   "cell_type": "markdown",
   "id": "arbitrary-return",
   "metadata": {},
   "source": [
    "# Exercice 3 (10 points)\n",
    "Modifiez le K-means presente ci-dessus pour qu'il partitionne les trois tables crees. \n",
    "On considère que les données avec ID_pref=0 sont sur le serveur 0, ID_pref=1 sur le serveur 1 et ID_pref=2 sur le serveur 2.\n",
    "Votre algorithme ne peut pas agreger les donnees de differents serveurs. \n",
    "Vous devez ecrire une fonction qui \n",
    "recois les moyennes des centroides durant une itération\n",
    "Calcul de nouvelles moyennes par rapport aux données dans un serveur\n",
    "\n",
    "Vous devez ensuite à partir de ces moyennes par serveur generer une moyenne globale.\n",
    "\n",
    "NB chaque serveur contribue a la moyenne globale en fonction des nombre d'elements dans ce dernier"
   ]
  },
  {
   "cell_type": "markdown",
   "id": "13ccb5b3",
   "metadata": {},
   "source": [
    "# bonus (5 points)\n",
    "4.1 Decrire de la fonction K Medoids \n",
    "4.2 Decrire une stratégie pour décentraliser l'execution du K-medoids.\n",
    "Votre algorithme ne peut pas agreger les donnees de differents serveurs. Il n'aura jamais accés aux differentes tables en même temps. "
   ]
  },
  {
   "cell_type": "markdown",
   "id": "younger-karen",
   "metadata": {},
   "source": [
    "# Bonne Chance !!"
   ]
  }
 ],
 "metadata": {
  "kernelspec": {
   "display_name": "Python 3 (ipykernel)",
   "language": "python",
   "name": "python3"
  },
  "language_info": {
   "codemirror_mode": {
    "name": "ipython",
    "version": 3
   },
   "file_extension": ".py",
   "mimetype": "text/x-python",
   "name": "python",
   "nbconvert_exporter": "python",
   "pygments_lexer": "ipython3",
   "version": "3.11.5"
  }
 },
 "nbformat": 4,
 "nbformat_minor": 5
}
