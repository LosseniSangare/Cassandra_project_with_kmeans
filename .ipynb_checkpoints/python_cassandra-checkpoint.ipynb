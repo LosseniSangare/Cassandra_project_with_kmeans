{
 "cells": [
  {
   "cell_type": "code",
   "execution_count": 1,
   "metadata": {},
   "outputs": [],
   "source": [
    "import urllib\n",
    "import codecs\n",
    "import shutil\n",
    "import os\n",
    "import glob2\n",
    "from bs4 import BeautifulSoup as bs\n",
    "import re\n",
    "import html\n",
    "import base64\n",
    "#import cql"
   ]
  },
  {
   "cell_type": "code",
   "execution_count": null,
   "metadata": {},
   "outputs": [],
   "source": [
    "from cassandra.cluster import Cluster\n",
    "cluster=Cluster(['172.19.0.2'])#127.0.0.1,\"172.17.0.0\"\n",
    "session=cluster.connect('ai')\n",
    "#session.execute(\"drop table python_test\")\n",
    "session.execute(\"create table python_test(id uuid primary key, name text, lastname text)\")\n",
    "for i in range(10):\n",
    "    session.execute(\"insert into python_test(id,name,lastname) values(uuid(), 'prenom_\"+str(i)+\"','nom')\")\n",
    "print(\"finished\")\n",
    "rows=session.execute(\"select id,name from python_test\")\n",
    "for r  in rows:\n",
    "    print(r.id)"
   ]
  },
  {
   "cell_type": "code",
   "execution_count": null,
   "metadata": {},
   "outputs": [],
   "source": [
    "\n",
    "#session.execute('drop table wiki_stat')\n",
    "res=session.execute(\"create  table wiki_stat(name text primary key, cat_count  counter, http_ext_count counter, http_int_count counter, wiki_count counter)\")\n"
   ]
  },
  {
   "cell_type": "code",
   "execution_count": null,
   "metadata": {},
   "outputs": [],
   "source": [
    "from cassandra.query import SimpleStatement, BatchStatement\n",
    "batch=BatchStatement()\n",
    "session.execute(\"create table temp_table(id timeuuid primary key)\")\n",
    "for i in range(100):\n",
    "    #print(\"update wiki_stat set cat_count=cat_count+\"+str(len(article.categories))+\" , http_ext_count=http_ext_count+\"+str(len(article.urls_http_ext))+\" , http_int_count=http_int_count+\"+str(len(article.urls_http_int))+\" , wiki_count=wiki_count+\"+str(len(article.urls_wiki))+\" where name=\"+article.name+\"\")\n",
    "    batch.add(SimpleStatement(\"insert into temp_table(id) values (now())\"))\n",
    "session.execute(batch)"
   ]
  },
  {
   "cell_type": "code",
   "execution_count": null,
   "metadata": {},
   "outputs": [],
   "source": [
    "from cassandra.cluster import Cluster\n",
    "#cluster=Cluster()#127.0.0.1\n",
    "#session=cluster.connect('ai')\n",
    "\n",
    "res=session.execute(\"select * from python_test \")\n",
    "for r in res:\n",
    "    print(r)\n"
   ]
  },
  {
   "cell_type": "code",
   "execution_count": null,
   "metadata": {},
   "outputs": [],
   "source": [
    "from cassandra.query import PreparedStatement\n",
    "\n",
    "prepared = session.prepare(\"insert into ai.employee_by_car_make(car_make, id,car_model) values (?,?,?)\")\n",
    "#stmt=session.prepare(\"INSERT INTO students (studentID, name, age, marks) VALUES (?,?,?)\")\n",
    "bound = prepared.bind([\"merc\",23,\"A3\"]);\n",
    "session.execute(bound);\n",
    "\n",
    "session.execute(prepared.bind([\"merc\",24,\"A3\"]));\n"
   ]
  }
 ],
 "metadata": {
  "kernelspec": {
   "display_name": "Python 3 (ipykernel)",
   "language": "python",
   "name": "python3"
  },
  "language_info": {
   "codemirror_mode": {
    "name": "ipython",
    "version": 3
   },
   "file_extension": ".py",
   "mimetype": "text/x-python",
   "name": "python",
   "nbconvert_exporter": "python",
   "pygments_lexer": "ipython3",
   "version": "3.8.10"
  }
 },
 "nbformat": 4,
 "nbformat_minor": 4
}
